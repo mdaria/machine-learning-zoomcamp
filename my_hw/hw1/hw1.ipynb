{
 "cells": [
  {
   "cell_type": "code",
   "execution_count": 114,
   "id": "d6dbfe6c-0f6b-433d-a2b6-74c9d17ad534",
   "metadata": {
    "execution": {
     "iopub.execute_input": "2024-10-01T14:32:39.391909Z",
     "iopub.status.busy": "2024-10-01T14:32:39.390772Z",
     "iopub.status.idle": "2024-10-01T14:32:39.422960Z",
     "shell.execute_reply": "2024-10-01T14:32:39.422188Z",
     "shell.execute_reply.started": "2024-10-01T14:32:39.391874Z"
    },
    "tags": []
   },
   "outputs": [
    {
     "name": "stdout",
     "output_type": "stream",
     "text": [
      "Python 3.11.0rc1\n"
     ]
    }
   ],
   "source": [
    "!python3 --version"
   ]
  },
  {
   "cell_type": "code",
   "execution_count": 115,
   "id": "f8196732-9bad-434f-ab83-45744e8fd0f3",
   "metadata": {
    "execution": {
     "iopub.execute_input": "2024-10-01T14:32:39.555376Z",
     "iopub.status.busy": "2024-10-01T14:32:39.554256Z",
     "iopub.status.idle": "2024-10-01T14:32:39.571931Z",
     "shell.execute_reply": "2024-10-01T14:32:39.571324Z",
     "shell.execute_reply.started": "2024-10-01T14:32:39.555342Z"
    },
    "tags": []
   },
   "outputs": [],
   "source": [
    "import pandas as pd\n",
    "import numpy as np"
   ]
  },
  {
   "cell_type": "code",
   "execution_count": 116,
   "id": "e67aeaea-e698-418e-8b10-08f30e011816",
   "metadata": {
    "execution": {
     "iopub.execute_input": "2024-10-01T14:32:39.716048Z",
     "iopub.status.busy": "2024-10-01T14:32:39.715082Z",
     "iopub.status.idle": "2024-10-01T14:32:39.730252Z",
     "shell.execute_reply": "2024-10-01T14:32:39.729608Z",
     "shell.execute_reply.started": "2024-10-01T14:32:39.716010Z"
    },
    "tags": []
   },
   "outputs": [],
   "source": [
    "# 1"
   ]
  },
  {
   "cell_type": "code",
   "execution_count": 117,
   "id": "d108a618-70e7-4292-9aa6-d87ce9e6cc88",
   "metadata": {
    "execution": {
     "iopub.execute_input": "2024-10-01T14:32:39.854058Z",
     "iopub.status.busy": "2024-10-01T14:32:39.853104Z",
     "iopub.status.idle": "2024-10-01T14:32:39.876430Z",
     "shell.execute_reply": "2024-10-01T14:32:39.875859Z",
     "shell.execute_reply.started": "2024-10-01T14:32:39.854013Z"
    },
    "tags": []
   },
   "outputs": [
    {
     "data": {
      "text/plain": [
       "'2.2.2'"
      ]
     },
     "execution_count": 117,
     "metadata": {},
     "output_type": "execute_result"
    }
   ],
   "source": [
    "pd.__version__"
   ]
  },
  {
   "cell_type": "code",
   "execution_count": 118,
   "id": "f7b85c77-cc7c-4ff6-8935-d4b86286f8d6",
   "metadata": {
    "execution": {
     "iopub.execute_input": "2024-10-01T14:32:40.001762Z",
     "iopub.status.busy": "2024-10-01T14:32:40.000884Z",
     "iopub.status.idle": "2024-10-01T14:32:40.026494Z",
     "shell.execute_reply": "2024-10-01T14:32:40.025744Z",
     "shell.execute_reply.started": "2024-10-01T14:32:40.001729Z"
    },
    "tags": []
   },
   "outputs": [],
   "source": [
    "# 2"
   ]
  },
  {
   "cell_type": "code",
   "execution_count": 119,
   "id": "9aca14ec-2407-499a-9640-399fa7c44ea8",
   "metadata": {
    "execution": {
     "iopub.execute_input": "2024-10-01T14:32:40.170996Z",
     "iopub.status.busy": "2024-10-01T14:32:40.169997Z",
     "iopub.status.idle": "2024-10-01T14:32:40.189843Z",
     "shell.execute_reply": "2024-10-01T14:32:40.188719Z",
     "shell.execute_reply.started": "2024-10-01T14:32:40.170961Z"
    },
    "tags": []
   },
   "outputs": [
    {
     "ename": "FileNotFoundError",
     "evalue": "[Errno 2] No such file or directory: 'laptops.csv'",
     "output_type": "error",
     "traceback": [
      "\u001b[0;31m---------------------------------------------------------------------------\u001b[0m",
      "\u001b[0;31mFileNotFoundError\u001b[0m                         Traceback (most recent call last)",
      "\u001b[0;32m/tmp/ipykernel_2613/4130543062.py\u001b[0m in \u001b[0;36m<cell line: 0>\u001b[0;34m()\u001b[0m\n\u001b[0;32m----> 1\u001b[0;31m \u001b[0mdf\u001b[0m \u001b[0;34m=\u001b[0m \u001b[0mpd\u001b[0m\u001b[0;34m.\u001b[0m\u001b[0mread_csv\u001b[0m\u001b[0;34m(\u001b[0m\u001b[0;34m'laptops.csv'\u001b[0m\u001b[0;34m)\u001b[0m\u001b[0;34m\u001b[0m\u001b[0;34m\u001b[0m\u001b[0m\n\u001b[0m",
      "\u001b[0;32m/kernel/fallback/lib/python3.11/site-packages/pandas/io/parsers/readers.py\u001b[0m in \u001b[0;36mread_csv\u001b[0;34m(filepath_or_buffer, sep, delimiter, header, names, index_col, usecols, dtype, engine, converters, true_values, false_values, skipinitialspace, skiprows, skipfooter, nrows, na_values, keep_default_na, na_filter, verbose, skip_blank_lines, parse_dates, infer_datetime_format, keep_date_col, date_parser, date_format, dayfirst, cache_dates, iterator, chunksize, compression, thousands, decimal, lineterminator, quotechar, quoting, doublequote, escapechar, comment, encoding, encoding_errors, dialect, on_bad_lines, delim_whitespace, low_memory, memory_map, float_precision, storage_options, dtype_backend)\u001b[0m\n\u001b[1;32m   1024\u001b[0m     \u001b[0mkwds\u001b[0m\u001b[0;34m.\u001b[0m\u001b[0mupdate\u001b[0m\u001b[0;34m(\u001b[0m\u001b[0mkwds_defaults\u001b[0m\u001b[0;34m)\u001b[0m\u001b[0;34m\u001b[0m\u001b[0;34m\u001b[0m\u001b[0m\n\u001b[1;32m   1025\u001b[0m \u001b[0;34m\u001b[0m\u001b[0m\n\u001b[0;32m-> 1026\u001b[0;31m     \u001b[0;32mreturn\u001b[0m \u001b[0m_read\u001b[0m\u001b[0;34m(\u001b[0m\u001b[0mfilepath_or_buffer\u001b[0m\u001b[0;34m,\u001b[0m \u001b[0mkwds\u001b[0m\u001b[0;34m)\u001b[0m\u001b[0;34m\u001b[0m\u001b[0;34m\u001b[0m\u001b[0m\n\u001b[0m\u001b[1;32m   1027\u001b[0m \u001b[0;34m\u001b[0m\u001b[0m\n\u001b[1;32m   1028\u001b[0m \u001b[0;34m\u001b[0m\u001b[0m\n",
      "\u001b[0;32m/kernel/fallback/lib/python3.11/site-packages/pandas/io/parsers/readers.py\u001b[0m in \u001b[0;36m_read\u001b[0;34m(filepath_or_buffer, kwds)\u001b[0m\n\u001b[1;32m    618\u001b[0m \u001b[0;34m\u001b[0m\u001b[0m\n\u001b[1;32m    619\u001b[0m     \u001b[0;31m# Create the parser.\u001b[0m\u001b[0;34m\u001b[0m\u001b[0;34m\u001b[0m\u001b[0m\n\u001b[0;32m--> 620\u001b[0;31m     \u001b[0mparser\u001b[0m \u001b[0;34m=\u001b[0m \u001b[0mTextFileReader\u001b[0m\u001b[0;34m(\u001b[0m\u001b[0mfilepath_or_buffer\u001b[0m\u001b[0;34m,\u001b[0m \u001b[0;34m**\u001b[0m\u001b[0mkwds\u001b[0m\u001b[0;34m)\u001b[0m\u001b[0;34m\u001b[0m\u001b[0;34m\u001b[0m\u001b[0m\n\u001b[0m\u001b[1;32m    621\u001b[0m \u001b[0;34m\u001b[0m\u001b[0m\n\u001b[1;32m    622\u001b[0m     \u001b[0;32mif\u001b[0m \u001b[0mchunksize\u001b[0m \u001b[0;32mor\u001b[0m \u001b[0miterator\u001b[0m\u001b[0;34m:\u001b[0m\u001b[0;34m\u001b[0m\u001b[0;34m\u001b[0m\u001b[0m\n",
      "\u001b[0;32m/kernel/fallback/lib/python3.11/site-packages/pandas/io/parsers/readers.py\u001b[0m in \u001b[0;36m__init__\u001b[0;34m(self, f, engine, **kwds)\u001b[0m\n\u001b[1;32m   1618\u001b[0m \u001b[0;34m\u001b[0m\u001b[0m\n\u001b[1;32m   1619\u001b[0m         \u001b[0mself\u001b[0m\u001b[0;34m.\u001b[0m\u001b[0mhandles\u001b[0m\u001b[0;34m:\u001b[0m \u001b[0mIOHandles\u001b[0m \u001b[0;34m|\u001b[0m \u001b[0;32mNone\u001b[0m \u001b[0;34m=\u001b[0m \u001b[0;32mNone\u001b[0m\u001b[0;34m\u001b[0m\u001b[0;34m\u001b[0m\u001b[0m\n\u001b[0;32m-> 1620\u001b[0;31m         \u001b[0mself\u001b[0m\u001b[0;34m.\u001b[0m\u001b[0m_engine\u001b[0m \u001b[0;34m=\u001b[0m \u001b[0mself\u001b[0m\u001b[0;34m.\u001b[0m\u001b[0m_make_engine\u001b[0m\u001b[0;34m(\u001b[0m\u001b[0mf\u001b[0m\u001b[0;34m,\u001b[0m \u001b[0mself\u001b[0m\u001b[0;34m.\u001b[0m\u001b[0mengine\u001b[0m\u001b[0;34m)\u001b[0m\u001b[0;34m\u001b[0m\u001b[0;34m\u001b[0m\u001b[0m\n\u001b[0m\u001b[1;32m   1621\u001b[0m \u001b[0;34m\u001b[0m\u001b[0m\n\u001b[1;32m   1622\u001b[0m     \u001b[0;32mdef\u001b[0m \u001b[0mclose\u001b[0m\u001b[0;34m(\u001b[0m\u001b[0mself\u001b[0m\u001b[0;34m)\u001b[0m \u001b[0;34m->\u001b[0m \u001b[0;32mNone\u001b[0m\u001b[0;34m:\u001b[0m\u001b[0;34m\u001b[0m\u001b[0;34m\u001b[0m\u001b[0m\n",
      "\u001b[0;32m/kernel/fallback/lib/python3.11/site-packages/pandas/io/parsers/readers.py\u001b[0m in \u001b[0;36m_make_engine\u001b[0;34m(self, f, engine)\u001b[0m\n\u001b[1;32m   1878\u001b[0m                 \u001b[0;32mif\u001b[0m \u001b[0;34m\"b\"\u001b[0m \u001b[0;32mnot\u001b[0m \u001b[0;32min\u001b[0m \u001b[0mmode\u001b[0m\u001b[0;34m:\u001b[0m\u001b[0;34m\u001b[0m\u001b[0;34m\u001b[0m\u001b[0m\n\u001b[1;32m   1879\u001b[0m                     \u001b[0mmode\u001b[0m \u001b[0;34m+=\u001b[0m \u001b[0;34m\"b\"\u001b[0m\u001b[0;34m\u001b[0m\u001b[0;34m\u001b[0m\u001b[0m\n\u001b[0;32m-> 1880\u001b[0;31m             self.handles = get_handle(\n\u001b[0m\u001b[1;32m   1881\u001b[0m                 \u001b[0mf\u001b[0m\u001b[0;34m,\u001b[0m\u001b[0;34m\u001b[0m\u001b[0;34m\u001b[0m\u001b[0m\n\u001b[1;32m   1882\u001b[0m                 \u001b[0mmode\u001b[0m\u001b[0;34m,\u001b[0m\u001b[0;34m\u001b[0m\u001b[0;34m\u001b[0m\u001b[0m\n",
      "\u001b[0;32m/kernel/fallback/lib/python3.11/site-packages/pandas/io/common.py\u001b[0m in \u001b[0;36mget_handle\u001b[0;34m(path_or_buf, mode, encoding, compression, memory_map, is_text, errors, storage_options)\u001b[0m\n\u001b[1;32m    871\u001b[0m         \u001b[0;32mif\u001b[0m \u001b[0mioargs\u001b[0m\u001b[0;34m.\u001b[0m\u001b[0mencoding\u001b[0m \u001b[0;32mand\u001b[0m \u001b[0;34m\"b\"\u001b[0m \u001b[0;32mnot\u001b[0m \u001b[0;32min\u001b[0m \u001b[0mioargs\u001b[0m\u001b[0;34m.\u001b[0m\u001b[0mmode\u001b[0m\u001b[0;34m:\u001b[0m\u001b[0;34m\u001b[0m\u001b[0;34m\u001b[0m\u001b[0m\n\u001b[1;32m    872\u001b[0m             \u001b[0;31m# Encoding\u001b[0m\u001b[0;34m\u001b[0m\u001b[0;34m\u001b[0m\u001b[0m\n\u001b[0;32m--> 873\u001b[0;31m             handle = open(\n\u001b[0m\u001b[1;32m    874\u001b[0m                 \u001b[0mhandle\u001b[0m\u001b[0;34m,\u001b[0m\u001b[0;34m\u001b[0m\u001b[0;34m\u001b[0m\u001b[0m\n\u001b[1;32m    875\u001b[0m                 \u001b[0mioargs\u001b[0m\u001b[0;34m.\u001b[0m\u001b[0mmode\u001b[0m\u001b[0;34m,\u001b[0m\u001b[0;34m\u001b[0m\u001b[0;34m\u001b[0m\u001b[0m\n",
      "\u001b[0;31mFileNotFoundError\u001b[0m: [Errno 2] No such file or directory: 'laptops.csv'"
     ]
    }
   ],
   "source": [
    "df = pd.read_csv('laptops.csv')"
   ]
  },
  {
   "cell_type": "code",
   "execution_count": 120,
   "id": "bc37721d-162e-4aaf-85e5-4679e6a0ff5d",
   "metadata": {
    "execution": {
     "iopub.execute_input": "2024-10-01T14:32:40.314992Z",
     "iopub.status.busy": "2024-10-01T14:32:40.313943Z",
     "iopub.status.idle": "2024-10-01T14:32:40.338024Z",
     "shell.execute_reply": "2024-10-01T14:32:40.337502Z",
     "shell.execute_reply.started": "2024-10-01T14:32:40.314959Z"
    },
    "tags": []
   },
   "outputs": [
    {
     "data": {
      "text/html": [
       "<div>\n",
       "<style scoped>\n",
       "    .dataframe tbody tr th:only-of-type {\n",
       "        vertical-align: middle;\n",
       "    }\n",
       "\n",
       "    .dataframe tbody tr th {\n",
       "        vertical-align: top;\n",
       "    }\n",
       "\n",
       "    .dataframe thead th {\n",
       "        text-align: right;\n",
       "    }\n",
       "</style>\n",
       "<table border=\"1\" class=\"dataframe\">\n",
       "  <thead>\n",
       "    <tr style=\"text-align: right;\">\n",
       "      <th></th>\n",
       "      <th>Laptop</th>\n",
       "      <th>Status</th>\n",
       "      <th>Brand</th>\n",
       "      <th>Model</th>\n",
       "      <th>CPU</th>\n",
       "      <th>RAM</th>\n",
       "      <th>Storage</th>\n",
       "      <th>Storage type</th>\n",
       "      <th>GPU</th>\n",
       "      <th>Screen</th>\n",
       "      <th>Touch</th>\n",
       "      <th>Final Price</th>\n",
       "    </tr>\n",
       "  </thead>\n",
       "  <tbody>\n",
       "    <tr>\n",
       "      <th>0</th>\n",
       "      <td>ASUS ExpertBook B1 B1502CBA-EJ0436X Intel Core...</td>\n",
       "      <td>New</td>\n",
       "      <td>Asus</td>\n",
       "      <td>ExpertBook</td>\n",
       "      <td>Intel Core i5</td>\n",
       "      <td>8</td>\n",
       "      <td>512</td>\n",
       "      <td>SSD</td>\n",
       "      <td>NaN</td>\n",
       "      <td>15.6</td>\n",
       "      <td>No</td>\n",
       "      <td>1009.00</td>\n",
       "    </tr>\n",
       "    <tr>\n",
       "      <th>1</th>\n",
       "      <td>Alurin Go Start Intel Celeron N4020/8GB/256GB ...</td>\n",
       "      <td>New</td>\n",
       "      <td>Alurin</td>\n",
       "      <td>Go</td>\n",
       "      <td>Intel Celeron</td>\n",
       "      <td>8</td>\n",
       "      <td>256</td>\n",
       "      <td>SSD</td>\n",
       "      <td>NaN</td>\n",
       "      <td>15.6</td>\n",
       "      <td>No</td>\n",
       "      <td>299.00</td>\n",
       "    </tr>\n",
       "    <tr>\n",
       "      <th>2</th>\n",
       "      <td>ASUS ExpertBook B1 B1502CBA-EJ0424X Intel Core...</td>\n",
       "      <td>New</td>\n",
       "      <td>Asus</td>\n",
       "      <td>ExpertBook</td>\n",
       "      <td>Intel Core i3</td>\n",
       "      <td>8</td>\n",
       "      <td>256</td>\n",
       "      <td>SSD</td>\n",
       "      <td>NaN</td>\n",
       "      <td>15.6</td>\n",
       "      <td>No</td>\n",
       "      <td>789.00</td>\n",
       "    </tr>\n",
       "    <tr>\n",
       "      <th>3</th>\n",
       "      <td>MSI Katana GF66 12UC-082XES Intel Core i7-1270...</td>\n",
       "      <td>New</td>\n",
       "      <td>MSI</td>\n",
       "      <td>Katana</td>\n",
       "      <td>Intel Core i7</td>\n",
       "      <td>16</td>\n",
       "      <td>1000</td>\n",
       "      <td>SSD</td>\n",
       "      <td>RTX 3050</td>\n",
       "      <td>15.6</td>\n",
       "      <td>No</td>\n",
       "      <td>1199.00</td>\n",
       "    </tr>\n",
       "    <tr>\n",
       "      <th>4</th>\n",
       "      <td>HP 15S-FQ5085NS Intel Core i5-1235U/16GB/512GB...</td>\n",
       "      <td>New</td>\n",
       "      <td>HP</td>\n",
       "      <td>15S</td>\n",
       "      <td>Intel Core i5</td>\n",
       "      <td>16</td>\n",
       "      <td>512</td>\n",
       "      <td>SSD</td>\n",
       "      <td>NaN</td>\n",
       "      <td>15.6</td>\n",
       "      <td>No</td>\n",
       "      <td>669.01</td>\n",
       "    </tr>\n",
       "  </tbody>\n",
       "</table>\n",
       "</div>"
      ],
      "text/plain": [
       "                                              Laptop Status  ... Touch Final Price\n",
       "0  ASUS ExpertBook B1 B1502CBA-EJ0436X Intel Core...    New  ...    No     1009.00\n",
       "1  Alurin Go Start Intel Celeron N4020/8GB/256GB ...    New  ...    No      299.00\n",
       "2  ASUS ExpertBook B1 B1502CBA-EJ0424X Intel Core...    New  ...    No      789.00\n",
       "3  MSI Katana GF66 12UC-082XES Intel Core i7-1270...    New  ...    No     1199.00\n",
       "4  HP 15S-FQ5085NS Intel Core i5-1235U/16GB/512GB...    New  ...    No      669.01\n",
       "\n",
       "[5 rows x 12 columns]"
      ]
     },
     "execution_count": 120,
     "metadata": {},
     "output_type": "execute_result"
    }
   ],
   "source": [
    "df.head()"
   ]
  },
  {
   "cell_type": "code",
   "execution_count": 121,
   "id": "713e6abc-ad9e-4ab8-b246-6e0f96390f58",
   "metadata": {
    "execution": {
     "iopub.execute_input": "2024-10-01T14:32:40.461990Z",
     "iopub.status.busy": "2024-10-01T14:32:40.461017Z",
     "iopub.status.idle": "2024-10-01T14:32:40.488115Z",
     "shell.execute_reply": "2024-10-01T14:32:40.487442Z",
     "shell.execute_reply.started": "2024-10-01T14:32:40.461957Z"
    },
    "tags": []
   },
   "outputs": [
    {
     "data": {
      "text/plain": [
       "(2160, 12)"
      ]
     },
     "execution_count": 121,
     "metadata": {},
     "output_type": "execute_result"
    }
   ],
   "source": [
    "df.shape"
   ]
  },
  {
   "cell_type": "code",
   "execution_count": 122,
   "id": "2fd5098a-b9f0-448e-9d2c-78f075d357f5",
   "metadata": {
    "execution": {
     "iopub.execute_input": "2024-10-01T14:32:40.619471Z",
     "iopub.status.busy": "2024-10-01T14:32:40.618537Z",
     "iopub.status.idle": "2024-10-01T14:32:40.628344Z",
     "shell.execute_reply": "2024-10-01T14:32:40.627776Z",
     "shell.execute_reply.started": "2024-10-01T14:32:40.619436Z"
    },
    "tags": []
   },
   "outputs": [],
   "source": [
    "# 3"
   ]
  },
  {
   "cell_type": "code",
   "execution_count": 123,
   "id": "f7e041a8-e5d6-4ed1-9bbc-3707583b8c90",
   "metadata": {
    "execution": {
     "iopub.execute_input": "2024-10-01T14:32:40.792403Z",
     "iopub.status.busy": "2024-10-01T14:32:40.791346Z",
     "iopub.status.idle": "2024-10-01T14:32:40.850907Z",
     "shell.execute_reply": "2024-10-01T14:32:40.850339Z",
     "shell.execute_reply.started": "2024-10-01T14:32:40.792369Z"
    },
    "tags": []
   },
   "outputs": [
    {
     "data": {
      "text/plain": [
       "array(['Asus', 'Alurin', 'MSI', 'HP', 'Lenovo', 'Medion', 'Acer', 'Apple',\n",
       "       'Razer', 'Gigabyte', 'Dell', 'LG', 'Samsung', 'PcCom', 'Microsoft',\n",
       "       'Primux', 'Prixton', 'Dynabook Toshiba', 'Thomson', 'Denver',\n",
       "       'Deep Gaming', 'Vant', 'Innjoo', 'Jetwing', 'Millenium', 'Realme',\n",
       "       'Toshiba'], dtype=object)"
      ]
     },
     "execution_count": 123,
     "metadata": {},
     "output_type": "execute_result"
    }
   ],
   "source": [
    "df['Brand'].unique()"
   ]
  },
  {
   "cell_type": "code",
   "execution_count": 124,
   "id": "51f51e15-c22e-4308-a387-2ddb7a43ff95",
   "metadata": {
    "execution": {
     "iopub.execute_input": "2024-10-01T14:32:40.934450Z",
     "iopub.status.busy": "2024-10-01T14:32:40.933507Z",
     "iopub.status.idle": "2024-10-01T14:32:40.947406Z",
     "shell.execute_reply": "2024-10-01T14:32:40.946773Z",
     "shell.execute_reply.started": "2024-10-01T14:32:40.934413Z"
    },
    "tags": []
   },
   "outputs": [
    {
     "data": {
      "text/plain": [
       "(27,)"
      ]
     },
     "execution_count": 124,
     "metadata": {},
     "output_type": "execute_result"
    }
   ],
   "source": [
    "df['Brand'].unique().shape"
   ]
  },
  {
   "cell_type": "code",
   "execution_count": 125,
   "id": "f2ba9d32-4ecf-44cc-998b-eee56e179d6f",
   "metadata": {
    "execution": {
     "iopub.execute_input": "2024-10-01T14:32:41.111301Z",
     "iopub.status.busy": "2024-10-01T14:32:41.110461Z",
     "iopub.status.idle": "2024-10-01T14:32:41.124157Z",
     "shell.execute_reply": "2024-10-01T14:32:41.123533Z",
     "shell.execute_reply.started": "2024-10-01T14:32:41.111269Z"
    },
    "tags": []
   },
   "outputs": [],
   "source": [
    "# 4"
   ]
  },
  {
   "cell_type": "code",
   "execution_count": 126,
   "id": "7cb63c1a-e153-44ce-bfad-d62613e01863",
   "metadata": {
    "execution": {
     "iopub.execute_input": "2024-10-01T14:32:41.267939Z",
     "iopub.status.busy": "2024-10-01T14:32:41.266938Z",
     "iopub.status.idle": "2024-10-01T14:32:41.279693Z",
     "shell.execute_reply": "2024-10-01T14:32:41.278989Z",
     "shell.execute_reply.started": "2024-10-01T14:32:41.267901Z"
    },
    "tags": []
   },
   "outputs": [
    {
     "data": {
      "text/plain": [
       "Laptop             0\n",
       "Status             0\n",
       "Brand              0\n",
       "Model              0\n",
       "CPU                0\n",
       "RAM                0\n",
       "Storage            0\n",
       "Storage type      42\n",
       "GPU             1371\n",
       "Screen             4\n",
       "Touch              0\n",
       "Final Price        0\n",
       "dtype: int64"
      ]
     },
     "execution_count": 126,
     "metadata": {},
     "output_type": "execute_result"
    }
   ],
   "source": [
    "df.isnull().sum()"
   ]
  },
  {
   "cell_type": "code",
   "execution_count": 127,
   "id": "9beabb15-af5a-4be1-a048-ae13a2af8790",
   "metadata": {
    "execution": {
     "iopub.execute_input": "2024-10-01T14:32:41.427106Z",
     "iopub.status.busy": "2024-10-01T14:32:41.426259Z",
     "iopub.status.idle": "2024-10-01T14:32:41.436591Z",
     "shell.execute_reply": "2024-10-01T14:32:41.435983Z",
     "shell.execute_reply.started": "2024-10-01T14:32:41.427069Z"
    },
    "tags": []
   },
   "outputs": [],
   "source": [
    "# 5"
   ]
  },
  {
   "cell_type": "code",
   "execution_count": 128,
   "id": "f996ef57-e360-4439-a18e-8a8e1b2bd7d4",
   "metadata": {
    "execution": {
     "iopub.execute_input": "2024-10-01T14:32:41.600448Z",
     "iopub.status.busy": "2024-10-01T14:32:41.599895Z",
     "iopub.status.idle": "2024-10-01T14:32:41.640225Z",
     "shell.execute_reply": "2024-10-01T14:32:41.639579Z",
     "shell.execute_reply.started": "2024-10-01T14:32:41.600412Z"
    },
    "tags": []
   },
   "outputs": [
    {
     "data": {
      "text/html": [
       "<div>\n",
       "<style scoped>\n",
       "    .dataframe tbody tr th:only-of-type {\n",
       "        vertical-align: middle;\n",
       "    }\n",
       "\n",
       "    .dataframe tbody tr th {\n",
       "        vertical-align: top;\n",
       "    }\n",
       "\n",
       "    .dataframe thead th {\n",
       "        text-align: right;\n",
       "    }\n",
       "</style>\n",
       "<table border=\"1\" class=\"dataframe\">\n",
       "  <thead>\n",
       "    <tr style=\"text-align: right;\">\n",
       "      <th></th>\n",
       "      <th>RAM</th>\n",
       "      <th>Storage</th>\n",
       "      <th>Screen</th>\n",
       "      <th>Final Price</th>\n",
       "    </tr>\n",
       "  </thead>\n",
       "  <tbody>\n",
       "    <tr>\n",
       "      <th>count</th>\n",
       "      <td>84.000000</td>\n",
       "      <td>84.000000</td>\n",
       "      <td>84.000000</td>\n",
       "      <td>84.000000</td>\n",
       "    </tr>\n",
       "    <tr>\n",
       "      <th>mean</th>\n",
       "      <td>11.380952</td>\n",
       "      <td>395.142857</td>\n",
       "      <td>14.686905</td>\n",
       "      <td>1153.839881</td>\n",
       "    </tr>\n",
       "    <tr>\n",
       "      <th>std</th>\n",
       "      <td>4.583640</td>\n",
       "      <td>175.543846</td>\n",
       "      <td>1.023669</td>\n",
       "      <td>671.795071</td>\n",
       "    </tr>\n",
       "    <tr>\n",
       "      <th>min</th>\n",
       "      <td>4.000000</td>\n",
       "      <td>128.000000</td>\n",
       "      <td>13.000000</td>\n",
       "      <td>379.000000</td>\n",
       "    </tr>\n",
       "    <tr>\n",
       "      <th>25%</th>\n",
       "      <td>8.000000</td>\n",
       "      <td>256.000000</td>\n",
       "      <td>14.000000</td>\n",
       "      <td>699.000000</td>\n",
       "    </tr>\n",
       "    <tr>\n",
       "      <th>50%</th>\n",
       "      <td>8.000000</td>\n",
       "      <td>256.000000</td>\n",
       "      <td>14.500000</td>\n",
       "      <td>1003.000000</td>\n",
       "    </tr>\n",
       "    <tr>\n",
       "      <th>75%</th>\n",
       "      <td>16.000000</td>\n",
       "      <td>512.000000</td>\n",
       "      <td>15.600000</td>\n",
       "      <td>1313.810000</td>\n",
       "    </tr>\n",
       "    <tr>\n",
       "      <th>max</th>\n",
       "      <td>32.000000</td>\n",
       "      <td>1000.000000</td>\n",
       "      <td>17.000000</td>\n",
       "      <td>3936.000000</td>\n",
       "    </tr>\n",
       "  </tbody>\n",
       "</table>\n",
       "</div>"
      ],
      "text/plain": [
       "             RAM      Storage     Screen  Final Price\n",
       "count  84.000000    84.000000  84.000000    84.000000\n",
       "mean   11.380952   395.142857  14.686905  1153.839881\n",
       "std     4.583640   175.543846   1.023669   671.795071\n",
       "min     4.000000   128.000000  13.000000   379.000000\n",
       "25%     8.000000   256.000000  14.000000   699.000000\n",
       "50%     8.000000   256.000000  14.500000  1003.000000\n",
       "75%    16.000000   512.000000  15.600000  1313.810000\n",
       "max    32.000000  1000.000000  17.000000  3936.000000"
      ]
     },
     "execution_count": 128,
     "metadata": {},
     "output_type": "execute_result"
    }
   ],
   "source": [
    "df.query('Brand == \"Dell\"').describe()"
   ]
  },
  {
   "cell_type": "code",
   "execution_count": 129,
   "id": "af2acec4-80ea-40a5-94c3-f432f01be39f",
   "metadata": {
    "execution": {
     "iopub.execute_input": "2024-10-01T14:32:41.763882Z",
     "iopub.status.busy": "2024-10-01T14:32:41.762971Z",
     "iopub.status.idle": "2024-10-01T14:32:41.775971Z",
     "shell.execute_reply": "2024-10-01T14:32:41.775287Z",
     "shell.execute_reply.started": "2024-10-01T14:32:41.763847Z"
    },
    "tags": []
   },
   "outputs": [],
   "source": [
    "### 6"
   ]
  },
  {
   "cell_type": "code",
   "execution_count": 130,
   "id": "8b605e75-28d6-472a-8889-a1201d8c7f6c",
   "metadata": {
    "execution": {
     "iopub.execute_input": "2024-10-01T14:32:41.959739Z",
     "iopub.status.busy": "2024-10-01T14:32:41.958933Z",
     "iopub.status.idle": "2024-10-01T14:32:41.970591Z",
     "shell.execute_reply": "2024-10-01T14:32:41.970039Z",
     "shell.execute_reply.started": "2024-10-01T14:32:41.959707Z"
    },
    "tags": []
   },
   "outputs": [
    {
     "data": {
      "text/plain": [
       "15.6"
      ]
     },
     "execution_count": 130,
     "metadata": {},
     "output_type": "execute_result"
    }
   ],
   "source": [
    "df['Screen'].median()"
   ]
  },
  {
   "cell_type": "code",
   "execution_count": 131,
   "id": "ba4f4759-8182-489a-89f5-f19bb43a724f",
   "metadata": {
    "execution": {
     "iopub.execute_input": "2024-10-01T14:32:42.074325Z",
     "iopub.status.busy": "2024-10-01T14:32:42.073414Z",
     "iopub.status.idle": "2024-10-01T14:32:42.088475Z",
     "shell.execute_reply": "2024-10-01T14:32:42.087926Z",
     "shell.execute_reply.started": "2024-10-01T14:32:42.074288Z"
    },
    "tags": []
   },
   "outputs": [
    {
     "data": {
      "text/plain": [
       "15.6"
      ]
     },
     "execution_count": 131,
     "metadata": {},
     "output_type": "execute_result"
    }
   ],
   "source": [
    "df['Screen'].mode()[0]"
   ]
  },
  {
   "cell_type": "code",
   "execution_count": 132,
   "id": "aedd58fd-090b-4d4c-8d51-e6d3e9ea86a3",
   "metadata": {
    "execution": {
     "iopub.execute_input": "2024-10-01T14:32:42.252426Z",
     "iopub.status.busy": "2024-10-01T14:32:42.251296Z",
     "iopub.status.idle": "2024-10-01T14:32:42.278539Z",
     "shell.execute_reply": "2024-10-01T14:32:42.277925Z",
     "shell.execute_reply.started": "2024-10-01T14:32:42.252391Z"
    },
    "tags": []
   },
   "outputs": [],
   "source": [
    "new = df['Screen'].fillna(df['Screen'].mode()[0])"
   ]
  },
  {
   "cell_type": "code",
   "execution_count": 133,
   "id": "b4b9e1ae-0b48-41e4-923c-105ae72e4bc2",
   "metadata": {
    "execution": {
     "iopub.execute_input": "2024-10-01T14:32:42.402355Z",
     "iopub.status.busy": "2024-10-01T14:32:42.401504Z",
     "iopub.status.idle": "2024-10-01T14:32:42.426413Z",
     "shell.execute_reply": "2024-10-01T14:32:42.425755Z",
     "shell.execute_reply.started": "2024-10-01T14:32:42.402316Z"
    },
    "tags": []
   },
   "outputs": [
    {
     "data": {
      "text/plain": [
       "2160"
      ]
     },
     "execution_count": 133,
     "metadata": {},
     "output_type": "execute_result"
    }
   ],
   "source": [
    "new.count()"
   ]
  },
  {
   "cell_type": "code",
   "execution_count": 134,
   "id": "f7ede4d9-9f7e-4631-aa2b-02718099487e",
   "metadata": {
    "execution": {
     "iopub.execute_input": "2024-10-01T14:32:42.570772Z",
     "iopub.status.busy": "2024-10-01T14:32:42.569877Z",
     "iopub.status.idle": "2024-10-01T14:32:42.580865Z",
     "shell.execute_reply": "2024-10-01T14:32:42.580338Z",
     "shell.execute_reply.started": "2024-10-01T14:32:42.570738Z"
    },
    "tags": []
   },
   "outputs": [
    {
     "data": {
      "text/plain": [
       "15.6"
      ]
     },
     "execution_count": 134,
     "metadata": {},
     "output_type": "execute_result"
    }
   ],
   "source": [
    "new.median()"
   ]
  },
  {
   "cell_type": "code",
   "execution_count": null,
   "id": "a6da65e3-5411-4604-b1af-2d0de6adecf6",
   "metadata": {},
   "outputs": [],
   "source": []
  },
  {
   "cell_type": "code",
   "execution_count": 135,
   "id": "f781d749-a2f0-4da9-bd53-75b172f3e257",
   "metadata": {
    "execution": {
     "iopub.execute_input": "2024-10-01T14:32:42.905494Z",
     "iopub.status.busy": "2024-10-01T14:32:42.904780Z",
     "iopub.status.idle": "2024-10-01T14:32:42.914986Z",
     "shell.execute_reply": "2024-10-01T14:32:42.914436Z",
     "shell.execute_reply.started": "2024-10-01T14:32:42.905458Z"
    },
    "tags": []
   },
   "outputs": [],
   "source": [
    "### 7"
   ]
  },
  {
   "cell_type": "code",
   "execution_count": 136,
   "id": "1405686d-a3b7-4f68-96bf-cc80713da1cb",
   "metadata": {
    "execution": {
     "iopub.execute_input": "2024-10-01T14:32:43.058835Z",
     "iopub.status.busy": "2024-10-01T14:32:43.058147Z",
     "iopub.status.idle": "2024-10-01T14:32:43.074550Z",
     "shell.execute_reply": "2024-10-01T14:32:43.073974Z",
     "shell.execute_reply.started": "2024-10-01T14:32:43.058803Z"
    },
    "tags": []
   },
   "outputs": [],
   "source": [
    "X = df.query('Brand == \"Innjoo\"')[['RAM', 'Storage', 'Screen']].values"
   ]
  },
  {
   "cell_type": "code",
   "execution_count": 137,
   "id": "bb73a922-5ae2-4269-8157-600df921cf3d",
   "metadata": {
    "execution": {
     "iopub.execute_input": "2024-10-01T14:32:43.218432Z",
     "iopub.status.busy": "2024-10-01T14:32:43.217619Z",
     "iopub.status.idle": "2024-10-01T14:32:43.228734Z",
     "shell.execute_reply": "2024-10-01T14:32:43.228112Z",
     "shell.execute_reply.started": "2024-10-01T14:32:43.218400Z"
    },
    "tags": []
   },
   "outputs": [],
   "source": [
    "XTX = np.dot(X.T, X)"
   ]
  },
  {
   "cell_type": "code",
   "execution_count": 138,
   "id": "83384041-833e-4405-bc06-fd130e3ce997",
   "metadata": {
    "execution": {
     "iopub.execute_input": "2024-10-01T14:32:43.392785Z",
     "iopub.status.busy": "2024-10-01T14:32:43.391936Z",
     "iopub.status.idle": "2024-10-01T14:32:43.404892Z",
     "shell.execute_reply": "2024-10-01T14:32:43.404325Z",
     "shell.execute_reply.started": "2024-10-01T14:32:43.392752Z"
    },
    "tags": []
   },
   "outputs": [
    {
     "data": {
      "text/plain": [
       "array([[2.52000e+02, 8.32000e+03, 5.59800e+02],\n",
       "       [8.32000e+03, 3.68640e+05, 1.73952e+04],\n",
       "       [5.59800e+02, 1.73952e+04, 1.28196e+03]])"
      ]
     },
     "execution_count": 138,
     "metadata": {},
     "output_type": "execute_result"
    }
   ],
   "source": [
    "XTX"
   ]
  },
  {
   "cell_type": "code",
   "execution_count": 139,
   "id": "eb21b1ea-a140-4a34-bf86-c4853bdd20e1",
   "metadata": {
    "execution": {
     "iopub.execute_input": "2024-10-01T14:32:43.548507Z",
     "iopub.status.busy": "2024-10-01T14:32:43.547662Z",
     "iopub.status.idle": "2024-10-01T14:32:43.573106Z",
     "shell.execute_reply": "2024-10-01T14:32:43.572125Z",
     "shell.execute_reply.started": "2024-10-01T14:32:43.548476Z"
    },
    "tags": []
   },
   "outputs": [
    {
     "data": {
      "text/plain": [
       "array([[ 2.78025381e-01, -1.51791334e-03, -1.00809855e-01],\n",
       "       [-1.51791334e-03,  1.58286725e-05,  4.48052175e-04],\n",
       "       [-1.00809855e-01,  4.48052175e-04,  3.87214888e-02]])"
      ]
     },
     "execution_count": 139,
     "metadata": {},
     "output_type": "execute_result"
    }
   ],
   "source": [
    "np.linalg.inv(XTX)"
   ]
  },
  {
   "cell_type": "code",
   "execution_count": 140,
   "id": "5b3df808-fd10-4f56-ae64-a15570f63e77",
   "metadata": {
    "execution": {
     "iopub.execute_input": "2024-10-01T14:32:43.717757Z",
     "iopub.status.busy": "2024-10-01T14:32:43.716852Z",
     "iopub.status.idle": "2024-10-01T14:32:43.741011Z",
     "shell.execute_reply": "2024-10-01T14:32:43.740291Z",
     "shell.execute_reply.started": "2024-10-01T14:32:43.717725Z"
    },
    "tags": []
   },
   "outputs": [],
   "source": [
    "y = np.array([1100, 1300, 800, 900, 1000, 1100])"
   ]
  },
  {
   "cell_type": "code",
   "execution_count": 141,
   "id": "e234407f-9d04-47db-b97c-a0d8012ab838",
   "metadata": {
    "execution": {
     "iopub.execute_input": "2024-10-01T14:32:43.905145Z",
     "iopub.status.busy": "2024-10-01T14:32:43.904009Z",
     "iopub.status.idle": "2024-10-01T14:32:43.919683Z",
     "shell.execute_reply": "2024-10-01T14:32:43.918884Z",
     "shell.execute_reply.started": "2024-10-01T14:32:43.905108Z"
    },
    "tags": []
   },
   "outputs": [],
   "source": [
    "w = np.dot(np.dot(np.linalg.inv(XTX), X.T), y)"
   ]
  },
  {
   "cell_type": "code",
   "execution_count": 142,
   "id": "4e8fea6c-0234-461d-b19a-f2c7fa79b661",
   "metadata": {
    "execution": {
     "iopub.execute_input": "2024-10-01T14:32:44.071141Z",
     "iopub.status.busy": "2024-10-01T14:32:44.070283Z",
     "iopub.status.idle": "2024-10-01T14:32:44.090109Z",
     "shell.execute_reply": "2024-10-01T14:32:44.089506Z",
     "shell.execute_reply.started": "2024-10-01T14:32:44.071109Z"
    },
    "tags": []
   },
   "outputs": [
    {
     "data": {
      "text/plain": [
       "91.2998806299555"
      ]
     },
     "execution_count": 142,
     "metadata": {},
     "output_type": "execute_result"
    }
   ],
   "source": [
    "w.sum()"
   ]
  },
  {
   "cell_type": "code",
   "execution_count": null,
   "id": "725b8478-e4d8-41cc-ad61-384a2b1fbd5c",
   "metadata": {},
   "outputs": [],
   "source": []
  },
  {
   "cell_type": "code",
   "execution_count": null,
   "id": "84e53a09-a99e-4c77-9e33-1f7f6c66e5c5",
   "metadata": {},
   "outputs": [],
   "source": []
  }
 ],
 "metadata": {
  "kernelspec": {
   "display_name": "DataSphere Kernel",
   "language": "python",
   "name": "python3"
  },
  "language_info": {
   "codemirror_mode": {
    "name": "ipython",
    "version": 3
   },
   "file_extension": ".py",
   "mimetype": "text/x-python",
   "name": "python",
   "nbconvert_exporter": "python",
   "pygments_lexer": "ipython3",
   "version": "3.10.12"
  }
 },
 "nbformat": 4,
 "nbformat_minor": 5
}
